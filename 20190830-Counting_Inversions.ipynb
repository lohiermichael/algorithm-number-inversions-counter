{
 "cells": [
  {
   "cell_type": "markdown",
   "metadata": {},
   "source": [
    "# Counting inversions\n",
    "\n",
    "In this noteobok, we are going to test the different strategies for the problem of counting the number of inversions in a list of integers.\n",
    "\n",
    "Let's set a list of integers: <br>\n",
    "- with values 0...10000\n",
    "- we are going to make variate the number of element of the list"
   ]
  },
  {
   "cell_type": "code",
   "execution_count": 1,
   "metadata": {},
   "outputs": [],
   "source": [
    "import counting_inversions.lib.algorithm_input as ai\n",
    "from typing import *\n",
    "import matplotlib.pyplot as plt\n",
    "import counting_inversions.compare_algo.input_list_algos as ila\n",
    "import counting_inversions.compare_algo.plotter as pl"
   ]
  },
  {
   "cell_type": "code",
   "execution_count": 2,
   "metadata": {},
   "outputs": [],
   "source": [
    "l_test = ai.InputList(l_length=5, min_value=0, max_value=3, is_distinct=False)"
   ]
  },
  {
   "cell_type": "markdown",
   "metadata": {},
   "source": [
    "## Brute force"
   ]
  },
  {
   "cell_type": "code",
   "execution_count": 3,
   "metadata": {},
   "outputs": [
    {
     "name": "stdout",
     "output_type": "stream",
     "text": [
      "The test list is: [2, 3, 3, 2, 3]\n",
      "The number of inversversions is equal to 2\n"
     ]
    }
   ],
   "source": [
    "print(\"The test list is:\", l_test)\n",
    "def brute_force(L):\n",
    "    n_inversions = 0\n",
    "    n = len(L)\n",
    "    for i in range(n):\n",
    "        for j in range(i+1, n):\n",
    "            if L[i] > L[j]:\n",
    "                n_inversions +=1\n",
    "    return n_inversions\n",
    "\n",
    "print(f'The number of inversversions is equal to {brute_force(l_test)}')"
   ]
  },
  {
   "cell_type": "markdown",
   "metadata": {},
   "source": [
    "## Brute force recursive"
   ]
  },
  {
   "cell_type": "code",
   "execution_count": 4,
   "metadata": {},
   "outputs": [
    {
     "name": "stdout",
     "output_type": "stream",
     "text": [
      "The test list is: [2, 3, 3, 2, 3]\n",
      "The number of inversversions is equal to 2\n"
     ]
    }
   ],
   "source": [
    "print(\"The test list is:\", l_test)\n",
    "def brute_force_rec(L):\n",
    "    n_inversions_step = 0\n",
    "    first_elmt = L[0]\n",
    "    L_drop = L[1:]\n",
    "    n_drop = len(L_drop)\n",
    "    if n_drop == 0:\n",
    "        return 0\n",
    "    else:\n",
    "        for i in range(n_drop):\n",
    "            if first_elmt > L_drop[i]:\n",
    "                n_inversions_step +=1\n",
    "        return n_inversions_step + brute_force_rec(L_drop)\n",
    "\n",
    "\n",
    "    \n",
    "print(f'The number of inversversions is equal to {brute_force_rec(l_test)}')\n"
   ]
  },
  {
   "cell_type": "markdown",
   "metadata": {},
   "source": [
    "## Tim's method\n",
    "---------------\n",
    "His method is recursive ..."
   ]
  },
  {
   "cell_type": "code",
   "execution_count": 5,
   "metadata": {},
   "outputs": [
    {
     "name": "stdout",
     "output_type": "stream",
     "text": [
      "The test list is: [2, 3, 3, 2, 3]\n",
      "The number of inversversions is equal to 2\n"
     ]
    }
   ],
   "source": [
    "print(\"The test list is:\", l_test)\n",
    "\n",
    "\n",
    "def count_inversions_sort(L):\n",
    "    \"\"\"\n",
    "    This function takes a function as an input\n",
    "    and returns the sorted function as well as its number of inversions\n",
    "    Parameters\n",
    "    ----------\n",
    "    L (list)\n",
    "\n",
    "    Returns\n",
    "    -------\n",
    "    Tuple(int, list)\n",
    "    \"\"\"\n",
    "\n",
    "    # Divide L in 2\n",
    "    n = len(L)\n",
    "\n",
    "    if n <= 1:\n",
    "        return 0, L\n",
    "\n",
    "    else:\n",
    "        n_half = int(n / 2)\n",
    "        L_left = L[:n_half]\n",
    "        L_right = L[n_half:]\n",
    "\n",
    "        # The results of recursion\n",
    "        n_inversions_left, L_left_sorted = count_inversions_sort(L_left)\n",
    "        n_inversions_right, L_right_sorted = count_inversions_sort(L_right)\n",
    "\n",
    "        # The future outputs\n",
    "        L_merge = []\n",
    "        n_inversions_merge = 0\n",
    "\n",
    "        i_left = 0\n",
    "        i_right = 0\n",
    "        while not (i_left == len(L_left_sorted) and i_right == len(L_right_sorted)):\n",
    "            if i_left == len(L_left_sorted):\n",
    "                L_merge.append(L_right_sorted[i_right])\n",
    "                i_right += 1\n",
    "            elif i_right == len(L_right_sorted):\n",
    "                L_merge.append(L_left_sorted[i_left])\n",
    "                i_left += 1\n",
    "\n",
    "            elif L_left_sorted[i_left] <= L_right_sorted[i_right]:\n",
    "                L_merge.append(L_left_sorted[i_left])\n",
    "                i_left += 1\n",
    "            elif L_left_sorted[i_left] > L_right_sorted[i_right]:\n",
    "                L_merge.append(L_right_sorted[i_right])\n",
    "                i_right += 1\n",
    "                n_inversions_merge += len(L_left_sorted) - i_left\n",
    "\n",
    "        n_inversions_total = n_inversions_left + n_inversions_right + n_inversions_merge\n",
    "\n",
    "        return n_inversions_total, L_merge\n",
    "\n",
    "    \n",
    "def tim_inversions_count(L):\n",
    "    n_inversions, L_sorted = count_inversions_sort(L)\n",
    "    return n_inversions\n",
    "\n",
    "print(f'The number of inversversions is equal to {tim_inversions_count(l_test)}')"
   ]
  },
  {
   "cell_type": "markdown",
   "metadata": {},
   "source": [
    "## Comparing the algorithms on simple lists"
   ]
  },
  {
   "cell_type": "markdown",
   "metadata": {},
   "source": [
    "Creation of the **`collection of algorithms object`**"
   ]
  },
  {
   "cell_type": "code",
   "execution_count": 6,
   "metadata": {},
   "outputs": [],
   "source": [
    "collect_algo = ila.CollectionAlgosInputList(tim_inversions_count, \n",
    "                                            brute_force_rec, \n",
    "                                           brute_force)"
   ]
  },
  {
   "cell_type": "markdown",
   "metadata": {},
   "source": [
    "Checking if the three algorithms above have the same output"
   ]
  },
  {
   "cell_type": "code",
   "execution_count": 7,
   "metadata": {},
   "outputs": [
    {
     "name": "stdout",
     "output_type": "stream",
     "text": [
      "Oura, the three algorithms have the same output\n"
     ]
    }
   ],
   "source": [
    "if collect_algo.have_same_output(l=l_test):\n",
    "    print(\"Oura, the three algorithms have the same output\")\n",
    "else:\n",
    "    print(\"Oups, at least one of the algorithms doesn't return a correct result\")"
   ]
  },
  {
   "cell_type": "markdown",
   "metadata": {},
   "source": [
    "Let's make a bigger list and perform the time of computation"
   ]
  },
  {
   "cell_type": "code",
   "execution_count": 8,
   "metadata": {},
   "outputs": [
    {
     "data": {
      "text/plain": [
       "{'tim_inversions_count': 0.003206014633178711,\n",
       " 'brute_force_rec': 0.023760318756103516,\n",
       " 'brute_force': 0.05914640426635742}"
      ]
     },
     "execution_count": 8,
     "metadata": {},
     "output_type": "execute_result"
    }
   ],
   "source": [
    "collect_algo.time_random_list(l_length=1000)"
   ]
  },
  {
   "cell_type": "markdown",
   "metadata": {},
   "source": [
    "We can clearly see that Tim's method is much faster"
   ]
  },
  {
   "cell_type": "markdown",
   "metadata": {},
   "source": [
    "## Multi-comparaisons\n",
    "------------------------\n",
    "We are gather the times of computation of different the different algorithms for different lengths of list in a single dataframe to then plot the results"
   ]
  },
  {
   "cell_type": "code",
   "execution_count": 9,
   "metadata": {},
   "outputs": [
    {
     "data": {
      "text/html": [
       "<div>\n",
       "<style scoped>\n",
       "    .dataframe tbody tr th:only-of-type {\n",
       "        vertical-align: middle;\n",
       "    }\n",
       "\n",
       "    .dataframe tbody tr th {\n",
       "        vertical-align: top;\n",
       "    }\n",
       "\n",
       "    .dataframe thead th {\n",
       "        text-align: right;\n",
       "    }\n",
       "</style>\n",
       "<table border=\"1\" class=\"dataframe\">\n",
       "  <thead>\n",
       "    <tr style=\"text-align: right;\">\n",
       "      <th></th>\n",
       "      <th>tim_inversions_count</th>\n",
       "      <th>brute_force_rec</th>\n",
       "      <th>brute_force</th>\n",
       "    </tr>\n",
       "  </thead>\n",
       "  <tbody>\n",
       "    <tr>\n",
       "      <td>1</td>\n",
       "      <td>0.000001</td>\n",
       "      <td>7.152557e-07</td>\n",
       "      <td>0.000002</td>\n",
       "    </tr>\n",
       "    <tr>\n",
       "      <td>2</td>\n",
       "      <td>0.000005</td>\n",
       "      <td>1.430511e-06</td>\n",
       "      <td>0.000002</td>\n",
       "    </tr>\n",
       "    <tr>\n",
       "      <td>3</td>\n",
       "      <td>0.000006</td>\n",
       "      <td>2.861023e-06</td>\n",
       "      <td>0.000003</td>\n",
       "    </tr>\n",
       "    <tr>\n",
       "      <td>4</td>\n",
       "      <td>0.000009</td>\n",
       "      <td>3.337860e-06</td>\n",
       "      <td>0.000003</td>\n",
       "    </tr>\n",
       "    <tr>\n",
       "      <td>5</td>\n",
       "      <td>0.000012</td>\n",
       "      <td>4.768372e-06</td>\n",
       "      <td>0.000005</td>\n",
       "    </tr>\n",
       "    <tr>\n",
       "      <td>...</td>\n",
       "      <td>...</td>\n",
       "      <td>...</td>\n",
       "      <td>...</td>\n",
       "    </tr>\n",
       "    <tr>\n",
       "      <td>495</td>\n",
       "      <td>0.001420</td>\n",
       "      <td>5.421638e-03</td>\n",
       "      <td>0.014135</td>\n",
       "    </tr>\n",
       "    <tr>\n",
       "      <td>496</td>\n",
       "      <td>0.001422</td>\n",
       "      <td>5.510807e-03</td>\n",
       "      <td>0.014266</td>\n",
       "    </tr>\n",
       "    <tr>\n",
       "      <td>497</td>\n",
       "      <td>0.001485</td>\n",
       "      <td>5.734921e-03</td>\n",
       "      <td>0.014741</td>\n",
       "    </tr>\n",
       "    <tr>\n",
       "      <td>498</td>\n",
       "      <td>0.001490</td>\n",
       "      <td>5.369902e-03</td>\n",
       "      <td>0.014441</td>\n",
       "    </tr>\n",
       "    <tr>\n",
       "      <td>499</td>\n",
       "      <td>0.001430</td>\n",
       "      <td>5.612612e-03</td>\n",
       "      <td>0.014498</td>\n",
       "    </tr>\n",
       "  </tbody>\n",
       "</table>\n",
       "<p>499 rows × 3 columns</p>\n",
       "</div>"
      ],
      "text/plain": [
       "     tim_inversions_count  brute_force_rec  brute_force\n",
       "1                0.000001     7.152557e-07     0.000002\n",
       "2                0.000005     1.430511e-06     0.000002\n",
       "3                0.000006     2.861023e-06     0.000003\n",
       "4                0.000009     3.337860e-06     0.000003\n",
       "5                0.000012     4.768372e-06     0.000005\n",
       "..                    ...              ...          ...\n",
       "495              0.001420     5.421638e-03     0.014135\n",
       "496              0.001422     5.510807e-03     0.014266\n",
       "497              0.001485     5.734921e-03     0.014741\n",
       "498              0.001490     5.369902e-03     0.014441\n",
       "499              0.001430     5.612612e-03     0.014498\n",
       "\n",
       "[499 rows x 3 columns]"
      ]
     },
     "execution_count": 9,
     "metadata": {},
     "output_type": "execute_result"
    }
   ],
   "source": [
    "df_multi_comparison = collect_algo.time_multiple_random_lists(range_length=500)\n",
    "df_multi_comparison"
   ]
  },
  {
   "cell_type": "code",
   "execution_count": 10,
   "metadata": {},
   "outputs": [
    {
     "data": {
      "image/png": "[encoded data removed]",
      "text/plain": [
       "<Figure size 720x720 with 1 Axes>"
      ]
     },
     "metadata": {
      "needs_background": "light"
     },
     "output_type": "display_data"
    }
   ],
   "source": [
    "pl.algo_plotter(df_multi_comparison)"
   ]
  },
  {
   "cell_type": "markdown",
   "metadata": {},
   "source": [
    "That is a bit weird  but the `brute_force_rec` seems to outperform the `brute force`, whereas they are both  supposed to be in **O(n2)**\n",
    "\n",
    "`tim_inversions_count` is supposed to be in **O(nlog(n))**. "
   ]
  },
  {
   "cell_type": "markdown",
   "metadata": {},
   "source": [
    "To show the difference between the ***brute force*** approach and the ***divide to conquer*** one, namely, that of Tim, we are going to only keep :\n",
    "- `tim_inversions_count`\n",
    "- `brute_force_rec`\n",
    "\n",
    "for greater values of `l_length`. In fact, we are going to forget `brute_force` because we suspect that it might overtake the maximum limit of recursion\n"
   ]
  },
  {
   "cell_type": "code",
   "execution_count": 11,
   "metadata": {},
   "outputs": [],
   "source": [
    "tim_vs_brute = ila.CollectionAlgosInputList(tim_inversions_count, \n",
    "                                            brute_force_rec)"
   ]
  },
  {
   "cell_type": "code",
   "execution_count": 12,
   "metadata": {},
   "outputs": [],
   "source": [
    "df_time_vs_brute = tim_vs_brute.time_multiple_random_lists(1000)"
   ]
  },
  {
   "cell_type": "code",
   "execution_count": 13,
   "metadata": {},
   "outputs": [
    {
     "data": {
      "image/png": "[encoded data removed]",
      "text/plain": [
       "<Figure size 720x720 with 1 Axes>"
      ]
     },
     "metadata": {
      "needs_background": "light"
     },
     "output_type": "display_data"
    }
   ],
   "source": [
    "pl.algo_plotter(df_time_vs_brute)"
   ]
  },
  {
   "cell_type": "code",
   "execution_count": null,
   "metadata": {},
   "outputs": [],
   "source": []
  },
  {
   "cell_type": "code",
   "execution_count": null,
   "metadata": {},
   "outputs": [],
   "source": []
  },
  {
   "cell_type": "code",
   "execution_count": null,
   "metadata": {},
   "outputs": [],
   "source": []
  },
  {
   "cell_type": "code",
   "execution_count": null,
   "metadata": {},
   "outputs": [],
   "source": []
  },
  {
   "cell_type": "code",
   "execution_count": null,
   "metadata": {},
   "outputs": [],
   "source": []
  }
 ],
 "metadata": {
  "kernelspec": {
   "display_name": "Python 3",
   "language": "python",
   "name": "python3"
  },
  "language_info": {
   "codemirror_mode": {
    "name": "ipython",
    "version": 3
   },
   "file_extension": ".py",
   "mimetype": "text/x-python",
   "name": "python",
   "nbconvert_exporter": "python",
   "pygments_lexer": "ipython3",
   "version": "3.7.4"
  }
 },
 "nbformat": 4,
 "nbformat_minor": 2
}
